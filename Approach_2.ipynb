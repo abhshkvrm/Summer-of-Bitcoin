{
  "nbformat": 4,
  "nbformat_minor": 0,
  "metadata": {
    "kernelspec": {
      "display_name": "Python 3",
      "language": "python",
      "name": "python3"
    },
    "language_info": {
      "codemirror_mode": {
        "name": "ipython",
        "version": 3
      },
      "file_extension": ".py",
      "mimetype": "text/x-python",
      "name": "python",
      "nbconvert_exporter": "python",
      "pygments_lexer": "ipython3",
      "version": "3.8.3"
    },
    "colab": {
      "name": "Approach_2.ipynb",
      "provenance": []
    },
    "accelerator": "GPU"
  },
  "cells": [
    {
      "cell_type": "markdown",
      "metadata": {
        "id": "yzSsc-BX1ibw"
      },
      "source": [
        "## Initializing and Reading CSV\n",
        "\n",
        "Defined a read() function and initialized all the essential lists for the Knapsack Problem\n"
      ]
    },
    {
      "cell_type": "code",
      "metadata": {
        "id": "gn6xzTQgCbnV"
      },
      "source": [
        "\n",
        "import numpy\n",
        "import gc\n",
        "\n",
        "gc.collect() \n",
        "txid=[]                       #empty list created             \n",
        "fees = []                                              \n",
        "weights = []\n",
        "final =[]\n"
      ],
      "execution_count": 3,
      "outputs": []
    },
    {
      "cell_type": "code",
      "metadata": {
        "id": "JURQ0WIZCbnY"
      },
      "source": [
        "\n",
        "def read():\n",
        "    with open(\"mempool.csv\", \"r\") as f:                             # read the mempool.csv\n",
        "        for line in f.readlines()[1:]:                              # reading line by line of the csv\n",
        "            tx_id, fe, wgt, parents = line.strip().split(\",\")       # splitting and storing it in different corresponding variables\n",
        "            fe, wgt = int(fe), int(wgt)                             # typcast\n",
        "            txid.append(tx_id)                                      # appending it to the list\n",
        "            fees.append(fe)\n",
        "            weights.append(wgt)\n",
        "   "
      ],
      "execution_count": 4,
      "outputs": []
    },
    {
      "cell_type": "markdown",
      "metadata": {
        "id": "aNFdMvhe8ylB"
      },
      "source": [
        "## Knapsack Problem ALGO\n",
        "\n",
        "Accounting the maximum no. of weights that we can take to maximize the miner's maximum value. The lower right of the n*W matrix gets the maximum value that we have printed with the variable name 'res.'"
      ]
    },
    {
      "cell_type": "code",
      "metadata": {
        "id": "nPtqq8uaCbnZ"
      },
      "source": [
        "def knapSack(W, wt, val, n):\n",
        "    K = [[0 for w in range(W + 1)]     #2D matrix of size [n][W]\n",
        "            for x in range(n + 1)] \n",
        "             \n",
        "    for i in range(n + 1):\n",
        "        for w in range(W + 1):\n",
        "            if i == 0 or w == 0:\n",
        "                K[i][w] = 0\n",
        "            elif wt[i - 1] <= w:\n",
        "                K[i][w] = max(val[i - 1] + K[i - 1][w - wt[i - 1]], K[i - 1][w])\n",
        "            else:\n",
        "                K[i][w] = K[i - 1][w]\n",
        " \n",
        "    \n",
        "    res = K[n][W]                      \n",
        "    print(\"maximum fee \"+str(res))                         #max value \n",
        "     \n",
        "    w = W\n",
        "    for i in range(n, 0, -1):          #traversing the 2D matrix from the back(reverse order)\n",
        "        if res <= 0:\n",
        "            break\n",
        "        # either the result comes from the\n",
        "        # top (K[i-1][w]) or from (val[i-1]\n",
        "        # + K[i-1] [w-wt[i-1]]) as in Knapsack\n",
        "        # table. If it comes from the latter\n",
        "        # one/ it means the item is included.\n",
        "        if res == K[i - 1][w]:           \n",
        "            continue\n",
        "        else:\n",
        "                                        \n",
        "            #print(wt[i - 1])\n",
        "            final.append(txid[i-1])     # appending the tx_id in the list named final\n",
        "            res = res - val[i - 1]      \n",
        "            w = w - wt[i - 1]           # Since this weight is included its value is deducted     \n",
        "  "
      ],
      "execution_count": 5,
      "outputs": []
    },
    {
      "cell_type": "markdown",
      "metadata": {
        "id": "gB3TgJiA-BIC"
      },
      "source": [
        "## Main function\n",
        "Unable to run the code for max_weight =4000000 (given in the question), I am getting a memory failed error. So performed the code for the smaller dataset. Printed the list final that we have appended, which stores the tx_id's considering maximum fee to the minor\n"
      ]
    },
    {
      "cell_type": "code",
      "metadata": {
        "colab": {
          "base_uri": "https://localhost:8080/"
        },
        "id": "ZX7e70zUCbnb",
        "outputId": "15ba1755-8f4f-4f08-ae1b-fa2553579ddd"
      },
      "source": [
        "if __name__ == \"__main__\":\n",
        "    read()                                  # Read the memory pool\n",
        "    n= len(fees)                            #                            \n",
        "    knapSack(40000, weights, fees, n)       # max_weight = 40000  , calling the above function\n",
        "    for x in range(len(final)):             # printing the list using loop\n",
        "        print (final[x])                    "
      ],
      "execution_count": 6,
      "outputs": [
        {
          "output_type": "stream",
          "text": [
            "maximum fee 1417260\n",
            "e4f3132c345739b91e630861da990b697f7f603bd7547da320abc5282a9af65b\n",
            "fe1360b0e758f8fa21781fd352213faf3676400a9415a319680664243b08cad1\n",
            "c3fef085fca34891e6456489d840ab68139b24857eb1f925b943066ebb988732\n",
            "fac0417aafa46ea002ed3e04fc38087b45aca6a15a47bd4e5026e1e6cefa7967\n",
            "0c8ebf9c75f63b7e5ff176e2937f24c694aa6b3bde0e59b5647983bbb7dd38d6\n",
            "b8894fbe99628c253fa93cf178679727e117d04fea5e5079de002548a0dd6511\n",
            "87784075804f10dad1f815de867dde2875e73a13da798c317fcddd75e03efc95\n",
            "6a709ddadfcf13b2e302cf0f75163538b0273923cc55fccc158f7466abebc1a9\n",
            "826c80c43044cc00bebdf021a42dca6946591f02710e4e6da58c094be8e62d00\n",
            "71135d5eea18edfaba370a457bc5135fdf97639b207dc682f940939743c9b32e\n",
            "24e784e1c9373f72dcc8a6923bf5558ba7b544158b56e097ec393e8695b19a5e\n",
            "7f264c468f624b62071dbcb531de5af722b327d5b098f426314622340cf17512\n",
            "3bfc4c22fc7aaded4b02c6a6d67b4a7bad297377e46e4c300208f3bc3d65aae1\n",
            "a72b7e7b0b56fbd63ba644ad2f434451a0b223b38bba6a24fb50933d7c8e1639\n",
            "1588b395893a4c0d1fa754c0c17c47570b0bcd752948891930736382f948f27e\n",
            "f8ee4bef9c971ee4990fb5a323fb2387a728bf6b46ffd6a56afdfad12bae067d\n",
            "f9a1bcc9a4f54b57a0f7b6cebddd7790528399b9b1781a71489be39174bbd2ba\n",
            "729f70f1c37bdc9ddb808ecbd214a7381646e36df44eb98bb2f432570675f1bc\n",
            "fc54aafe611780ae7cd9f375f1cc07f4c1ade7d55ef6c59101721e3c0d728ebc\n",
            "6f4338ff2f475cd89efe98ee6a3a8cbdfbac8abadc5f71b393dad1e9a4f411aa\n",
            "8e407c281902ec6a7328a5af4900033616126d092a5ab7af1ee3e15816040acb\n",
            "c6bcde6ce104df02a2c24df5ce54ef2088defa6a8cf38835548d25dabfd64b15\n",
            "2c1ef9b00878263d72281044b871ba8b113d5ed308ab644db81b16c7465bcee5\n",
            "9f32e44dbd0cee054006accf25bb266ddcbfc0a531663b4a1c8570926d91a407\n",
            "7c674bed714a08281921d6b0f11fac2fc07db4a120caf3357d4aa23b026bde2b\n",
            "de669dad7f8d8b37a789cb8f86ddd62b93b7b8323d90ff29fa61ca1f41f8c73f\n",
            "4dffb545157fc1b58e60775b364f9b9c1202a99e97e9603a37620e603c166590\n",
            "c23716da258e4665c88f8be37e94b2c365e720834eef16441f31b0da26d6fd84\n",
            "d5cfc98274e0a7c3bf69d07151a09e132c112411d8e32c948798705c8b0b73a1\n",
            "59f0495cf66d1864359dda816eb7189b9d9a3a9cd9dc50a3707776b41a6c815b\n",
            "9c895e3dd3813657abdc2d057af1e8f8d1a23ad25b016687deed73af72a9941d\n"
          ],
          "name": "stdout"
        }
      ]
    }
  ]
}