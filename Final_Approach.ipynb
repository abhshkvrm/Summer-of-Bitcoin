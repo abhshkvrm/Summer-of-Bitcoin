{
  "nbformat": 4,
  "nbformat_minor": 0,
  "metadata": {
    "kernelspec": {
      "display_name": "Python 3",
      "language": "python",
      "name": "python3"
    },
    "language_info": {
      "codemirror_mode": {
        "name": "ipython",
        "version": 3
      },
      "file_extension": ".py",
      "mimetype": "text/x-python",
      "name": "python",
      "nbconvert_exporter": "python",
      "pygments_lexer": "ipython3",
      "version": "3.8.3"
    },
    "colab": {
      "name": "Final_Approach.ipynb",
      "provenance": [],
      "collapsed_sections": []
    }
  },
  "cells": [
    {
      "cell_type": "markdown",
      "metadata": {
        "id": "zjFqkbtg0QH9"
      },
      "source": [
        "# Initializing the global variables\n"
      ]
    },
    {
      "cell_type": "code",
      "metadata": {
        "id": "LmOFcxGK0QH_"
      },
      "source": [
        "\n",
        "import numpy\n",
        "\n",
        "graph = {}                                               # Dictionary signifies the graphs\n",
        "fees = {}                                                # it stores the corresponding fees\n",
        "weights = {}                                             # Dictionary which storesEach transcation's weights\n",
        "weight_per_fee = {}                                      # weight/fee  corresponding to each tx\n",
        "visited = {}                                             # Check if a node is visited either true or false\n",
        "\n",
        "final = []                                               # List saves the best possible sorted order \n",
        "\n"
      ],
      "execution_count": 6,
      "outputs": []
    },
    {
      "cell_type": "markdown",
      "metadata": {
        "id": "pHCua0iy0QIA"
      },
      "source": [
        "# Function to read the csv_file \n",
        "\n",
        "\n",
        "\n",
        "Defined a function read(), here I loaded the \"mempool.csv\" file. The file contains transaction id, weight, fees and optionally a few parents.\n",
        "\n",
        "Here comma seperated file has been extracted and temporarily stored it in different variables as follows:\n",
        "\n",
        "    tx_id : stores the transaction id                               fe: stores the transaction_fee \n",
        "    wgt : stores the transaction weight                             parents : stores the parent's tx_id\n",
        "\n",
        "\n",
        "\n",
        "\n",
        "\n",
        "\n",
        "\n",
        "\n",
        "\n"
      ]
    },
    {
      "cell_type": "code",
      "metadata": {
        "id": "DtDp2ALn0QIA"
      },
      "source": [
        "\n",
        "def read():\n",
        "    with open(\"mempool.csv\", \"r\") as f:                         # read the mempool.csv\n",
        "        for line in f.readlines()[1:]:                              # reading line by line of the csv\n",
        "            tx_id, fe, wgt, parents = line.strip().split(\",\")     \n",
        "            fe, wgt = int(fe), int(wgt)                             # convert the fee and weight from string to integer\n",
        "            fees[tx_id] = fe                                   # Saving weight_per_fee per tx_id (node), with the help of this we will generate graph\n",
        "            weights[tx_id] = wgt\n",
        "            weight_per_fee[tx_id] = wgt /fe                     # dictionary to store weight per fee corresponding to each transaction_id\n",
        "            graph[tx_id] = []                                   # initializing empty graph ( nothing else just a dictionary)              \n",
        "            visited[tx_id] = False                              # assigning the node as not visited (initially)\n",
        "            if parents == \"\":                                 # if there is no parent id we not have to worry just continue\n",
        "                continue\n",
        "            for parent in parents.strip().split(\";\"):         # if get parents_id not empty we check how many are there and storing them in corresponding dictionary\n",
        "                graph[tx_id].append(parent)                     #stores all the parent tx_id in a dictionary and just appending it in graph\n",
        "            \n",
        "                \n",
        "            \n",
        "        \n"
      ],
      "execution_count": 7,
      "outputs": []
    },
    {
      "cell_type": "markdown",
      "metadata": {
        "id": "l1eIspjL0QIB"
      },
      "source": [
        "# Function for Recursive Depth First Search \n",
        "Defines a function dfs, a recursive function that DFSs the mempool graph and puts childrens in order first. We are basically creating the ordered nodes so our main aim here is to go through the parents first so that thery can be inserted in the ordered nodes. "
      ]
    },
    {
      "cell_type": "code",
      "metadata": {
        "id": "saStB14B0QIB"
      },
      "source": [
        "def dfs(tx_id):\n",
        "    if visited[tx_id]:                      # If the node is already visited i.e. visited[tx_id]=True there is no need to parse it again\n",
        "        return\n",
        "    id = 0                                  # This Node can be placed from start offset in the case of no dependencies                                    \n",
        "    for g in graph[tx_id]:                  # Parse through the parents first so that they are already inserted inside the ordered nodes\n",
        "        dfs(g)                              #  calling recursively\n",
        "        \n",
        "    for g in graph[tx_id]:                  # Find the maximum index in final[] for this node's parents\n",
        "        for k, obj in enumerate(final):     # Enumerate() method in python adds a counter to an iterable and returns it in a form of enumerate object.\n",
        "            if obj[0] == g:\n",
        "                id = max(id, k+1)           # storing the max in id and then break from the loop\n",
        "                break\n",
        "\n",
        "    while id < len(final):                  # Loop from this maximum index and put in this tx just before the weight/fee is above this tx's weight/fee\n",
        "        if final[id][1] >= weight_per_fee[tx_id]:\n",
        "            break                            \n",
        "        id = id+1                            # increment the id \n",
        "        \n",
        "    final.insert(id, [tx_id, weight_per_fee[tx_id]])     # Insert this tx inside the order List 'final'\n",
        "    visited[tx_id] = True                                # Now we can set this node as visited "
      ],
      "execution_count": 8,
      "outputs": []
    },
    {
      "cell_type": "markdown",
      "metadata": {
        "id": "_qo37muN0QIB"
      },
      "source": [
        "# Function for creating final **block.txt** file and Diplaying the outputs\n",
        "\n",
        "Defines a generate_block() function we will inserts tx's in order from the final( List having Best possible sorted order) into the .txt file as asked in the problem statement. In this function I have also shown the important or somewhat necessary results with respect to the problem statement which might be useful "
      ]
    },
    {
      "cell_type": "code",
      "metadata": {
        "id": "XxUmoVj00QIC"
      },
      "source": [
        "def generate_block(max_weight=4000000):\n",
        "    s=0                                            # sums up the max fees that the minor will get\n",
        "    s1=0                                           # sums up total weight of the final block\n",
        "    count =0                                       # sums up the number of transaction\n",
        "    with open(\"block.txt\", \"w\") as f:              # opens the block.txt file and we will write on it                    \n",
        "        for tx in final:\n",
        "            if weights[tx[0]] > max_weight:        # checking the condition that the weight that we are putting in doesn't crosses max_weight i.e.4000000\n",
        "                break                              # if so then break from the loop\n",
        "            f.write(tx[0] + \"\\n\")                  # adding only the transaction id to the block.txt file and leaving line as specified in the Problem statement\n",
        "            s =s+fees[tx[0]]\n",
        "            s1=s1+ weights[tx[0]]                  # adding the respective values for each iteration\n",
        "            #print(str(s)+ \" \"+ str(s1))\n",
        "            max_weight -= weights[tx[0]]           # updating the max_weight\n",
        "            count=count+1\n",
        "            \n",
        "    percentage_of_weight = s1*100.00/ 4000000      # calulating percentage of weight present in the final block that the minor receives\n",
        "    print(\"Total number of transaction in the final block: \"+ str(count) )\n",
        "    print(\"Total weight of the final block: \" + str(s1))\n",
        "    print(\"Total(maximum) fees of the final block: \" + str(s))\n",
        "    print(\"Percentage of weight in the final block: \" + str(percentage_of_weight)+\"%\")\n",
        "    \n",
        "            \n",
        "            "
      ],
      "execution_count": 9,
      "outputs": []
    },
    {
      "cell_type": "markdown",
      "metadata": {
        "id": "0TsvbgBG0QID"
      },
      "source": [
        "# Main function\n",
        "Calls all the above functions in the required order!\n"
      ]
    },
    {
      "cell_type": "code",
      "metadata": {
        "id": "ta9n9tVc0QID",
        "colab": {
          "base_uri": "https://localhost:8080/"
        },
        "outputId": "963d060c-c8c8-4fec-f387-6f0e2b52cffe"
      },
      "source": [
        "if __name__ == \"__main__\":\n",
        "    read()                       # Read the memory pool\n",
        "    \n",
        "    for tx in graph.keys():      # Loop over the graph nodes\n",
        "        if not visited[tx]:\n",
        "            dfs(tx)\n",
        "            \n",
        "    generate_block()             # Generating the final block and saving it in .txt file"
      ],
      "execution_count": 10,
      "outputs": [
        {
          "output_type": "stream",
          "text": [
            "Total number of transaction in the final block: 3177\n",
            "Total weight of the final block: 3999136\n",
            "Total(maximum) fees of the final block: 5704305\n",
            "Percentage of weight in the final block: 99.9784%\n"
          ],
          "name": "stdout"
        }
      ]
    },
    {
      "cell_type": "code",
      "metadata": {
        "id": "1aE-Fz670QIE"
      },
      "source": [
        ""
      ],
      "execution_count": null,
      "outputs": []
    }
  ]
}
